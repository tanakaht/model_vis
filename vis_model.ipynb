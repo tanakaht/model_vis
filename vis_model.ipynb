{
 "cells": [
  {
   "cell_type": "markdown",
   "metadata": {},
   "source": [
    "# 目的\n",
    "1. 二つの入力の類似度を見るため、f=cossim(encoder(input1), encoder(input2)) を見る。\n",
    "2. その理由を知るため、df/dinput1, df/input2 を見る\n",
    "\n",
    "## やること\n",
    "\n",
    "1. MNIST, DCAE (うまくいっているモデル)　で試す\n",
    "2. KDDcup, (D)AE で試す\n",
    "3. 遠藤メソッド(certの方)　で試す"
   ]
  },
  {
   "cell_type": "code",
   "execution_count": 2,
   "metadata": {},
   "outputs": [
    {
     "name": "stdout",
     "output_type": "stream",
     "text": [
      "The autoreload extension is already loaded. To reload it, use:\n",
      "  %reload_ext autoreload\n"
     ]
    }
   ],
   "source": [
    "%load_ext autoreload"
   ]
  },
  {
   "cell_type": "code",
   "execution_count": 3,
   "metadata": {},
   "outputs": [
    {
     "name": "stderr",
     "output_type": "stream",
     "text": [
      "Using TensorFlow backend.\n"
     ]
    }
   ],
   "source": [
    "# 必要パッケージのimport\n",
    "import os, sys, re, time\n",
    "import json\n",
    "import numpy as np\n",
    "import pandas as pd\n",
    "import pickle\n",
    "import matplotlib.pyplot as plt\n",
    "import colorsys\n",
    "import seaborn as sns\n",
    "from sklearn.model_selection import train_test_split\n",
    "import matplotlib\n",
    "from functools import reduce\n",
    "\n",
    "import keras\n",
    "from keras import regularizers\n",
    "from keras import backend as K\n",
    "from keras.layers import Input, Dense\n",
    "from keras.models import Model\n",
    "from keras.datasets import mnist\n",
    "import tensorflow as tf\n",
    "from keras.layers import Input, Dense, Conv2D, MaxPooling2D, UpSampling2D\n",
    "from keras.layers.core import Lambda"
   ]
  },
  {
   "cell_type": "code",
   "execution_count": 4,
   "metadata": {},
   "outputs": [],
   "source": [
    "import model_vis\n",
    "%aimport model_vis\n",
    "%autoreload 1"
   ]
  },
  {
   "cell_type": "markdown",
   "metadata": {},
   "source": [
    "## MNIST, AE\n",
    "\n",
    "データセット用意、model作成、訓練、(復元画像見て)test, saliency見る"
   ]
  },
  {
   "cell_type": "code",
   "execution_count": 5,
   "metadata": {},
   "outputs": [],
   "source": [
    "# データセットの用意\n",
    "from keras.datasets import mnist\n",
    "\n",
    "(mnist_train, mnist_label_train), (mnist_test, mnist_label_test) = mnist.load_data()\n",
    "# model に投げる形に変換\n",
    "mnist_train = mnist_train.astype('float32')/255.\n",
    "mnist_train = mnist_train.reshape((len(mnist_train), np.prod(mnist_train.shape[1:])))\n",
    "# mnist_train = np.expand_dims(mnist_train, -1)\n",
    "mnist_label_train = np.eye(10)[mnist_label_train]\n",
    "\n",
    "mnist_test = mnist_test.astype('float32')/255.\n",
    "mnist_test = mnist_test.reshape((len(mnist_test), np.prod(mnist_test.shape[1:])))\n",
    "# mnist_test = np.expand_dims(mnist_test, -1)\n",
    "mnist_label_test = np.eye(10)[mnist_label_test]"
   ]
  },
  {
   "cell_type": "code",
   "execution_count": 6,
   "metadata": {},
   "outputs": [
    {
     "name": "stderr",
     "output_type": "stream",
     "text": [
      "WARNING: Logging before flag parsing goes to stderr.\n",
      "W1016 14:28:19.571869 4373704000 deprecation_wrapper.py:119] From /Users/ht/.pyenv/versions/miniconda3-latest/envs/cert/lib/python3.7/site-packages/keras/backend/tensorflow_backend.py:74: The name tf.get_default_graph is deprecated. Please use tf.compat.v1.get_default_graph instead.\n",
      "\n",
      "W1016 14:28:19.601797 4373704000 deprecation_wrapper.py:119] From /Users/ht/.pyenv/versions/miniconda3-latest/envs/cert/lib/python3.7/site-packages/keras/backend/tensorflow_backend.py:517: The name tf.placeholder is deprecated. Please use tf.compat.v1.placeholder instead.\n",
      "\n",
      "W1016 14:28:19.631597 4373704000 deprecation_wrapper.py:119] From /Users/ht/.pyenv/versions/miniconda3-latest/envs/cert/lib/python3.7/site-packages/keras/backend/tensorflow_backend.py:4138: The name tf.random_uniform is deprecated. Please use tf.random.uniform instead.\n",
      "\n",
      "/Users/ht/.pyenv/versions/miniconda3-latest/envs/cert/lib/python3.7/site-packages/ipykernel_launcher.py:9: UserWarning: Update your `Model` call to the Keras 2 API: `Model(inputs=Tensor(\"in..., outputs=Tensor(\"de...)`\n",
      "  if __name__ == '__main__':\n",
      "W1016 14:28:19.748306 4373704000 deprecation_wrapper.py:119] From /Users/ht/.pyenv/versions/miniconda3-latest/envs/cert/lib/python3.7/site-packages/keras/optimizers.py:790: The name tf.train.Optimizer is deprecated. Please use tf.compat.v1.train.Optimizer instead.\n",
      "\n",
      "W1016 14:28:19.761283 4373704000 deprecation_wrapper.py:119] From /Users/ht/.pyenv/versions/miniconda3-latest/envs/cert/lib/python3.7/site-packages/keras/backend/tensorflow_backend.py:3376: The name tf.log is deprecated. Please use tf.math.log instead.\n",
      "\n",
      "W1016 14:28:19.766182 4373704000 deprecation.py:323] From /Users/ht/.pyenv/versions/miniconda3-latest/envs/cert/lib/python3.7/site-packages/tensorflow/python/ops/nn_impl.py:180: add_dispatch_support.<locals>.wrapper (from tensorflow.python.ops.array_ops) is deprecated and will be removed in a future version.\n",
      "Instructions for updating:\n",
      "Use tf.where in 2.0, which has the same broadcast rule as np.where\n"
     ]
    },
    {
     "name": "stdout",
     "output_type": "stream",
     "text": [
      "_________________________________________________________________\n",
      "Layer (type)                 Output Shape              Param #   \n",
      "=================================================================\n",
      "input_1 (InputLayer)         (None, 784)               0         \n",
      "_________________________________________________________________\n",
      "dense_1 (Dense)              (None, 32)                25120     \n",
      "_________________________________________________________________\n",
      "dense_2 (Dense)              (None, 784)               25872     \n",
      "=================================================================\n",
      "Total params: 50,992\n",
      "Trainable params: 50,992\n",
      "Non-trainable params: 0\n",
      "_________________________________________________________________\n"
     ]
    }
   ],
   "source": [
    "# model 作成\n",
    "encoding_dim = 32\n",
    "input_img = Input(shape=(784,))\n",
    "# encoded_mnist = Dense(150, activation='relu')(input_img)\n",
    "encoded_mnist = Dense(encoding_dim, activation='relu')(input_img)\n",
    "# decoded_mnist = Dense(150, activation='relu')(encoded_mnist)\n",
    "decoded_mnist = Dense(784, activation='sigmoid')(encoded_mnist)\n",
    "\n",
    "ae_mnist = Model(input=input_img, output=decoded_mnist)\n",
    "encoder_mnist = Model(input_img, encoded_mnist)\n",
    "tf.keras.backend.get_session().run(tf.global_variables_initializer())\n",
    "ae_mnist.compile(optimizer='adadelta', loss='binary_crossentropy')\n",
    "ae_mnist.summary()"
   ]
  },
  {
   "cell_type": "code",
   "execution_count": 7,
   "metadata": {},
   "outputs": [
    {
     "name": "stderr",
     "output_type": "stream",
     "text": [
      "W1016 14:28:19.959067 4373704000 deprecation_wrapper.py:119] From /Users/ht/.pyenv/versions/miniconda3-latest/envs/cert/lib/python3.7/site-packages/keras/backend/tensorflow_backend.py:986: The name tf.assign_add is deprecated. Please use tf.compat.v1.assign_add instead.\n",
      "\n"
     ]
    },
    {
     "name": "stdout",
     "output_type": "stream",
     "text": [
      "Epoch 1/10\n",
      "60000/60000 [==============================] - 9s 142us/step - loss: 0.3594\n",
      "Epoch 2/10\n",
      "60000/60000 [==============================] - 7s 121us/step - loss: 0.2636\n",
      "Epoch 3/10\n",
      "60000/60000 [==============================] - 7s 115us/step - loss: 0.2408\n",
      "Epoch 4/10\n",
      "60000/60000 [==============================] - 7s 114us/step - loss: 0.2201\n",
      "Epoch 5/10\n",
      "60000/60000 [==============================] - 7s 115us/step - loss: 0.2052\n",
      "Epoch 6/10\n",
      "60000/60000 [==============================] - 6s 104us/step - loss: 0.1945\n",
      "Epoch 7/10\n",
      "60000/60000 [==============================] - 6s 102us/step - loss: 0.1863\n",
      "Epoch 8/10\n",
      "60000/60000 [==============================] - 6s 106us/step - loss: 0.1796\n",
      "Epoch 9/10\n",
      "60000/60000 [==============================] - 7s 115us/step - loss: 0.1739\n",
      "Epoch 10/10\n",
      "60000/60000 [==============================] - 7s 119us/step - loss: 0.1688\n"
     ]
    },
    {
     "data": {
      "text/plain": [
       "<keras.callbacks.History at 0x104cfb080>"
      ]
     },
     "execution_count": 7,
     "metadata": {},
     "output_type": "execute_result"
    }
   ],
   "source": [
    "# 訓練\n",
    "ae_mnist.fit(mnist_train, mnist_train,\n",
    "                epochs=10,\n",
    "                batch_size=256,\n",
    "                shuffle=True)"
   ]
  },
  {
   "cell_type": "code",
   "execution_count": 48,
   "metadata": {},
   "outputs": [
    {
     "data": {
      "image/png": "[encoded data removed]",
      "text/plain": [
       "<Figure size 1440x288 with 40 Axes>"
      ]
     },
     "metadata": {
      "needs_background": "light"
     },
     "output_type": "display_data"
    }
   ],
   "source": [
    "# test\n",
    "n = 20\n",
    "decoded_img = ae_mnist.predict(mnist_test[:n])\n",
    "\n",
    "plt.figure(figsize=(20, 4))\n",
    "for i in range(n):\n",
    "    ax = plt.subplot(2, n, i+1)\n",
    "    plt.imshow(mnist_test[i].reshape(28, 28))\n",
    "    plt.gray()\n",
    "    ax.get_xaxis().set_visible(False)\n",
    "    ax.get_yaxis().set_visible(False)\n",
    "\n",
    "    ax = plt.subplot(2, n, i+1+n)\n",
    "    plt.imshow(decoded_img[i].reshape(28, 28))\n",
    "    plt.gray()\n",
    "    ax.get_xaxis().set_visible(False)\n",
    "    ax.get_yaxis().set_visible(False)\n",
    "plt.show()"
   ]
  },
  {
   "cell_type": "markdown",
   "metadata": {},
   "source": [
    "### ずらすと壊滅的"
   ]
  },
  {
   "cell_type": "code",
   "execution_count": 49,
   "metadata": {},
   "outputs": [
    {
     "data": {
      "image/png": "[encoded data removed]",
      "text/plain": [
       "<Figure size 1440x288 with 40 Axes>"
      ]
     },
     "metadata": {
      "needs_background": "light"
     },
     "output_type": "display_data"
    }
   ],
   "source": [
    "# test\n",
    "n = 20\n",
    "test = mnist_test_dcae[:n]\n",
    "test = np.concatenate((test[:, :, 5:],test[:, :, :5]), axis=2).reshape(n, -1)\n",
    "decoded_img = ae_mnist.predict(test)\n",
    "\n",
    "plt.figure(figsize=(20, 4))\n",
    "for i in range(n):\n",
    "    ax = plt.subplot(2, n, i+1)\n",
    "    plt.imshow(test[i].reshape(28, 28))\n",
    "    plt.gray()\n",
    "    ax.get_xaxis().set_visible(False)\n",
    "    ax.get_yaxis().set_visible(False)\n",
    "\n",
    "    ax = plt.subplot(2, n, i+1+n)\n",
    "    plt.imshow(decoded_img[i].reshape(28, 28))\n",
    "    plt.gray()\n",
    "    ax.get_xaxis().set_visible(False)\n",
    "    ax.get_yaxis().set_visible(False)\n",
    "plt.show()"
   ]
  },
  {
   "cell_type": "code",
   "execution_count": 33,
   "metadata": {},
   "outputs": [
    {
     "name": "stderr",
     "output_type": "stream",
     "text": [
      "                                               \r"
     ]
    }
   ],
   "source": [
    "mnist_label = (mnist_label_test[:80] @ np.arange(10)).astype(int)\n",
    "model_vis.model_vis(encoder_mnist, mnist_test[:80], mnist_label, trans_data=model_vis.trans_data_mnist, output_path='./html/mnist_ae.html', output_title='mnist_ae')"
   ]
  },
  {
   "cell_type": "markdown",
   "metadata": {},
   "source": [
    "# mnist dcae"
   ]
  },
  {
   "cell_type": "code",
   "execution_count": 43,
   "metadata": {},
   "outputs": [],
   "source": [
    "# データセットの用意\n",
    "from keras.datasets import mnist\n",
    "# AEの時にやった処理\n",
    "(mnist_train, mnist_label_train), (mnist_test, mnist_label_test) = mnist.load_data()\n",
    "mnist_train = mnist_train.astype('float32')/255.\n",
    "mnist_train = mnist_train.reshape((len(mnist_train), np.prod(mnist_train.shape[1:])))\n",
    "mnist_label_train = np.eye(10)[mnist_label_train]\n",
    "\n",
    "mnist_test = mnist_test.astype('float32')/255.\n",
    "mnist_test = mnist_test.reshape((len(mnist_test), np.prod(mnist_test.shape[1:])))\n",
    "mnist_label_test = np.eye(10)[mnist_label_test]\n",
    "\n",
    "# DCAE ようにreshape\n",
    "mnist_train_dcae = mnist_train.reshape(-1, 28, 28, 1)\n",
    "mnist_test_dcae = mnist_test.reshape(-1, 28, 28, 1)"
   ]
  },
  {
   "cell_type": "code",
   "execution_count": 13,
   "metadata": {},
   "outputs": [
    {
     "name": "stderr",
     "output_type": "stream",
     "text": [
      "W1016 14:30:54.767674 4373704000 deprecation_wrapper.py:119] From /Users/ht/.pyenv/versions/miniconda3-latest/envs/cert/lib/python3.7/site-packages/keras/backend/tensorflow_backend.py:3976: The name tf.nn.max_pool is deprecated. Please use tf.nn.max_pool2d instead.\n",
      "\n",
      "W1016 14:30:54.857286 4373704000 deprecation_wrapper.py:119] From /Users/ht/.pyenv/versions/miniconda3-latest/envs/cert/lib/python3.7/site-packages/keras/backend/tensorflow_backend.py:2018: The name tf.image.resize_nearest_neighbor is deprecated. Please use tf.compat.v1.image.resize_nearest_neighbor instead.\n",
      "\n"
     ]
    },
    {
     "name": "stdout",
     "output_type": "stream",
     "text": [
      "_________________________________________________________________\n",
      "Layer (type)                 Output Shape              Param #   \n",
      "=================================================================\n",
      "input_2 (InputLayer)         (None, 28, 28, 1)         0         \n",
      "_________________________________________________________________\n",
      "conv2d_1 (Conv2D)            (None, 28, 28, 16)        160       \n",
      "_________________________________________________________________\n",
      "max_pooling2d_1 (MaxPooling2 (None, 14, 14, 16)        0         \n",
      "_________________________________________________________________\n",
      "conv2d_2 (Conv2D)            (None, 14, 14, 8)         1160      \n",
      "_________________________________________________________________\n",
      "max_pooling2d_2 (MaxPooling2 (None, 7, 7, 8)           0         \n",
      "_________________________________________________________________\n",
      "conv2d_3 (Conv2D)            (None, 7, 7, 8)           584       \n",
      "_________________________________________________________________\n",
      "max_pooling2d_3 (MaxPooling2 (None, 4, 4, 8)           0         \n",
      "_________________________________________________________________\n",
      "conv2d_4 (Conv2D)            (None, 4, 4, 8)           584       \n",
      "_________________________________________________________________\n",
      "up_sampling2d_1 (UpSampling2 (None, 8, 8, 8)           0         \n",
      "_________________________________________________________________\n",
      "conv2d_5 (Conv2D)            (None, 8, 8, 8)           584       \n",
      "_________________________________________________________________\n",
      "up_sampling2d_2 (UpSampling2 (None, 16, 16, 8)         0         \n",
      "_________________________________________________________________\n",
      "conv2d_6 (Conv2D)            (None, 14, 14, 16)        1168      \n",
      "_________________________________________________________________\n",
      "up_sampling2d_3 (UpSampling2 (None, 28, 28, 16)        0         \n",
      "_________________________________________________________________\n",
      "conv2d_7 (Conv2D)            (None, 28, 28, 1)         145       \n",
      "=================================================================\n",
      "Total params: 4,385\n",
      "Trainable params: 4,385\n",
      "Non-trainable params: 0\n",
      "_________________________________________________________________\n"
     ]
    }
   ],
   "source": [
    "input_img_dcae = Input(shape=(28, 28, 1))\n",
    "\n",
    "x = Conv2D(16, (3, 3), activation='relu', padding='same')(input_img_dcae)\n",
    "x = MaxPooling2D((2, 2), padding='same')(x)\n",
    "x = Conv2D(8, (3, 3), activation='relu', padding='same')(x)\n",
    "x = MaxPooling2D((2, 2), padding='same')(x)\n",
    "x = Conv2D(8, (3, 3), activation='relu', padding='same')(x)\n",
    "encoded_mnist_dcae = MaxPooling2D((2, 2), padding='same')(x)\n",
    "\n",
    "x = Conv2D(8, (3, 3), activation='relu', padding='same')(encoded_mnist_dcae)\n",
    "x = UpSampling2D((2, 2))(x)\n",
    "x = Conv2D(8, (3, 3), activation='relu', padding='same')(x)\n",
    "x = UpSampling2D((2, 2))(x)\n",
    "x = Conv2D(16, (3, 3), activation='relu')(x)\n",
    "x = UpSampling2D((2, 2))(x)\n",
    "decoded_mnist_dcae = Conv2D(1, (3, 3), activation='sigmoid', padding='same')(x)\n",
    "\n",
    "dcae = Model(input_img_dcae, decoded_mnist_dcae)\n",
    "encoder_mnist_dcae = Model(input_img_dcae, encoded_mnist_dcae)\n",
    "tf.keras.backend.get_session().run(tf.global_variables_initializer())\n",
    "dcae.compile(optimizer='adadelta', loss='binary_crossentropy')\n",
    "dcae.summary()"
   ]
  },
  {
   "cell_type": "code",
   "execution_count": 14,
   "metadata": {},
   "outputs": [
    {
     "name": "stdout",
     "output_type": "stream",
     "text": [
      "Epoch 1/10\n",
      "60000/60000 [==============================] - 96s 2ms/step - loss: 0.2485\n",
      "Epoch 2/10\n",
      "60000/60000 [==============================] - 84s 1ms/step - loss: 0.1753\n",
      "Epoch 3/10\n",
      "60000/60000 [==============================] - 83s 1ms/step - loss: 0.1595\n",
      "Epoch 4/10\n",
      "60000/60000 [==============================] - 83s 1ms/step - loss: 0.1508\n",
      "Epoch 5/10\n",
      "60000/60000 [==============================] - 83s 1ms/step - loss: 0.1445\n",
      "Epoch 6/10\n",
      "60000/60000 [==============================] - 83s 1ms/step - loss: 0.1400\n",
      "Epoch 7/10\n",
      "60000/60000 [==============================] - 83s 1ms/step - loss: 0.1363\n",
      "Epoch 8/10\n",
      "60000/60000 [==============================] - 84s 1ms/step - loss: 0.1334\n",
      "Epoch 9/10\n",
      "60000/60000 [==============================] - 86s 1ms/step - loss: 0.1309\n",
      "Epoch 10/10\n",
      "60000/60000 [==============================] - 96s 2ms/step - loss: 0.1290\n"
     ]
    },
    {
     "data": {
      "text/plain": [
       "<keras.callbacks.History at 0x1a59208a58>"
      ]
     },
     "execution_count": 14,
     "metadata": {},
     "output_type": "execute_result"
    }
   ],
   "source": [
    "# 訓練\n",
    "dcae.fit(mnist_train_dcae, mnist_train_dcae,\n",
    "                epochs=10,\n",
    "                batch_size=256,\n",
    "                shuffle=True)"
   ]
  },
  {
   "cell_type": "markdown",
   "metadata": {},
   "source": [
    "### ずらしてもOK"
   ]
  },
  {
   "cell_type": "code",
   "execution_count": 46,
   "metadata": {},
   "outputs": [
    {
     "data": {
      "image/png": "[encoded data removed]",
      "text/plain": [
       "<Figure size 1440x288 with 40 Axes>"
      ]
     },
     "metadata": {
      "needs_background": "light"
     },
     "output_type": "display_data"
    }
   ],
   "source": [
    "# test\n",
    "n = 20\n",
    "test = mnist_test_dcae[:n]\n",
    "test = np.concatenate((test[:, :, 5:],test[:, :, :5]), axis=2)\n",
    "decoded_img = dcae.predict(test)\n",
    "\n",
    "plt.figure(figsize=(20, 4))\n",
    "for i in range(n):\n",
    "    ax = plt.subplot(2, n, i+1)\n",
    "    plt.imshow(test[i].reshape(28, 28))\n",
    "    plt.gray()\n",
    "    ax.get_xaxis().set_visible(False)\n",
    "    ax.get_yaxis().set_visible(False)\n",
    "\n",
    "    ax = plt.subplot(2, n, i+1+n)\n",
    "    plt.imshow(decoded_img[i].reshape(28, 28))\n",
    "    plt.gray()\n",
    "    ax.get_xaxis().set_visible(False)\n",
    "    ax.get_yaxis().set_visible(False)\n",
    "plt.show()"
   ]
  },
  {
   "cell_type": "markdown",
   "metadata": {},
   "source": [
    "位置情報って復元できるんだ？"
   ]
  },
  {
   "cell_type": "code",
   "execution_count": 15,
   "metadata": {},
   "outputs": [
    {
     "name": "stderr",
     "output_type": "stream",
     "text": [
      "                                               \r"
     ]
    }
   ],
   "source": [
    "mnist_label = (mnist_label_test[:80] @ np.arange(10)).astype(int)\n",
    "model_vis.model_vis(encoder_mnist_dcae, mnist_test_dcae[:80], mnist_label, item_vis=model_vis.item_vis_for_mat, item_vis_label=[str(i) for i in range(28)], trans_data=model_vis.trans_data_mnist, output_path='./html/dcae_mat.html', output_title='dcae_mat')"
   ]
  },
  {
   "cell_type": "code",
   "execution_count": 16,
   "metadata": {},
   "outputs": [
    {
     "name": "stderr",
     "output_type": "stream",
     "text": [
      "                                               \r"
     ]
    }
   ],
   "source": [
    "mnist_label = (mnist_label_test[:80] @ np.arange(10)).astype(int)\n",
    "model_vis.model_vis(encoder_mnist_dcae, mnist_test_dcae[:80], mnist_label, item_vis=model_vis.item_vis_for_img, trans_data=model_vis.trans_data_mnist, output_path='./html/dcae_img.html', output_title='dcae_img')"
   ]
  },
  {
   "cell_type": "markdown",
   "metadata": {},
   "source": [
    "# iris, AE"
   ]
  },
  {
   "cell_type": "code",
   "execution_count": 17,
   "metadata": {},
   "outputs": [],
   "source": [
    "# データセットの用意\n",
    "from sklearn.datasets import load_iris\n",
    "iris = load_iris()\n",
    "iris_data = iris.data\n",
    "iris_label = np.eye(3)[iris.target]\n",
    "iris_label_name = iris.target_names[iris.target]"
   ]
  },
  {
   "cell_type": "code",
   "execution_count": 24,
   "metadata": {},
   "outputs": [
    {
     "name": "stderr",
     "output_type": "stream",
     "text": [
      "/Users/ht/.pyenv/versions/miniconda3-latest/envs/cert/lib/python3.7/site-packages/ipykernel_launcher.py:7: UserWarning: Update your `Model` call to the Keras 2 API: `Model(inputs=Tensor(\"in..., outputs=Tensor(\"de...)`\n",
      "  import sys\n"
     ]
    },
    {
     "name": "stdout",
     "output_type": "stream",
     "text": [
      "_________________________________________________________________\n",
      "Layer (type)                 Output Shape              Param #   \n",
      "=================================================================\n",
      "input_4 (InputLayer)         (None, 4)                 0         \n",
      "_________________________________________________________________\n",
      "dense_5 (Dense)              (None, 3)                 15        \n",
      "_________________________________________________________________\n",
      "dense_6 (Dense)              (None, 4)                 16        \n",
      "=================================================================\n",
      "Total params: 31\n",
      "Trainable params: 31\n",
      "Non-trainable params: 0\n",
      "_________________________________________________________________\n"
     ]
    }
   ],
   "source": [
    "# model 作成\n",
    "encoding_dim = 3\n",
    "input_iris = Input(shape=(4,))\n",
    "encoded_iris = Dense(encoding_dim, activation='relu')(input_iris)\n",
    "decoded_iris = Dense(4, activation='sigmoid')(encoded_iris)\n",
    "\n",
    "ae_iris = Model(input=input_iris, output=decoded_iris)\n",
    "encoder_iris = Model(input_iris, encoded_iris)\n",
    "tf.keras.backend.get_session().run(tf.global_variables_initializer())\n",
    "ae_iris.compile(optimizer='adadelta', loss='binary_crossentropy')\n",
    "ae_iris.summary()"
   ]
  },
  {
   "cell_type": "code",
   "execution_count": 25,
   "metadata": {},
   "outputs": [
    {
     "name": "stdout",
     "output_type": "stream",
     "text": [
      "Epoch 1/100\n",
      "150/150 [==============================] - 1s 6ms/step - loss: -5.4356\n",
      "Epoch 2/100\n",
      "150/150 [==============================] - 0s 15us/step - loss: -5.4958\n",
      "Epoch 3/100\n",
      "150/150 [==============================] - 0s 18us/step - loss: -5.5568\n",
      "Epoch 4/100\n",
      "150/150 [==============================] - 0s 16us/step - loss: -5.6184\n",
      "Epoch 5/100\n",
      "150/150 [==============================] - 0s 16us/step - loss: -5.6804\n",
      "Epoch 6/100\n",
      "150/150 [==============================] - 0s 17us/step - loss: -5.7430\n",
      "Epoch 7/100\n",
      "150/150 [==============================] - 0s 19us/step - loss: -5.8063\n",
      "Epoch 8/100\n",
      "150/150 [==============================] - 0s 19us/step - loss: -5.8701\n",
      "Epoch 9/100\n",
      "150/150 [==============================] - 0s 16us/step - loss: -5.9346\n",
      "Epoch 10/100\n",
      "150/150 [==============================] - 0s 22us/step - loss: -5.9998\n",
      "Epoch 11/100\n",
      "150/150 [==============================] - 0s 17us/step - loss: -6.0656\n",
      "Epoch 12/100\n",
      "150/150 [==============================] - 0s 22us/step - loss: -6.1320\n",
      "Epoch 13/100\n",
      "150/150 [==============================] - 0s 23us/step - loss: -6.1988\n",
      "Epoch 14/100\n",
      "150/150 [==============================] - 0s 24us/step - loss: -6.2663\n",
      "Epoch 15/100\n",
      "150/150 [==============================] - 0s 19us/step - loss: -6.3344\n",
      "Epoch 16/100\n",
      "150/150 [==============================] - 0s 20us/step - loss: -6.4032\n",
      "Epoch 17/100\n",
      "150/150 [==============================] - 0s 20us/step - loss: -6.4727\n",
      "Epoch 18/100\n",
      "150/150 [==============================] - 0s 19us/step - loss: -6.5428\n",
      "Epoch 19/100\n",
      "150/150 [==============================] - 0s 19us/step - loss: -6.6137\n",
      "Epoch 20/100\n",
      "150/150 [==============================] - 0s 16us/step - loss: -6.6852\n",
      "Epoch 21/100\n",
      "150/150 [==============================] - 0s 21us/step - loss: -6.7575\n",
      "Epoch 22/100\n",
      "150/150 [==============================] - 0s 20us/step - loss: -6.8305\n",
      "Epoch 23/100\n",
      "150/150 [==============================] - 0s 22us/step - loss: -6.9043\n",
      "Epoch 24/100\n",
      "150/150 [==============================] - 0s 19us/step - loss: -6.9789\n",
      "Epoch 25/100\n",
      "150/150 [==============================] - 0s 19us/step - loss: -7.0543\n",
      "Epoch 26/100\n",
      "150/150 [==============================] - 0s 20us/step - loss: -7.1304\n",
      "Epoch 27/100\n",
      "150/150 [==============================] - 0s 20us/step - loss: -7.2074\n",
      "Epoch 28/100\n",
      "150/150 [==============================] - 0s 20us/step - loss: -7.2853\n",
      "Epoch 29/100\n",
      "150/150 [==============================] - 0s 16us/step - loss: -7.3642\n",
      "Epoch 30/100\n",
      "150/150 [==============================] - 0s 28us/step - loss: -7.4440\n",
      "Epoch 31/100\n",
      "150/150 [==============================] - 0s 21us/step - loss: -7.5249\n",
      "Epoch 32/100\n",
      "150/150 [==============================] - 0s 24us/step - loss: -7.6069\n",
      "Epoch 33/100\n",
      "150/150 [==============================] - 0s 18us/step - loss: -7.6901\n",
      "Epoch 34/100\n",
      "150/150 [==============================] - 0s 19us/step - loss: -7.7746\n",
      "Epoch 35/100\n",
      "150/150 [==============================] - 0s 26us/step - loss: -7.8604\n",
      "Epoch 36/100\n",
      "150/150 [==============================] - 0s 22us/step - loss: -7.9477\n",
      "Epoch 37/100\n",
      "150/150 [==============================] - 0s 17us/step - loss: -8.0364\n",
      "Epoch 38/100\n",
      "150/150 [==============================] - 0s 16us/step - loss: -8.1266\n",
      "Epoch 39/100\n",
      "150/150 [==============================] - 0s 18us/step - loss: -8.2184\n",
      "Epoch 40/100\n",
      "150/150 [==============================] - 0s 18us/step - loss: -8.3121\n",
      "Epoch 41/100\n",
      "150/150 [==============================] - 0s 22us/step - loss: -8.4077\n",
      "Epoch 42/100\n",
      "150/150 [==============================] - 0s 19us/step - loss: -8.5052\n",
      "Epoch 43/100\n",
      "150/150 [==============================] - 0s 18us/step - loss: -8.6050\n",
      "Epoch 44/100\n",
      "150/150 [==============================] - 0s 20us/step - loss: -8.7072\n",
      "Epoch 45/100\n",
      "150/150 [==============================] - 0s 21us/step - loss: -8.8118\n",
      "Epoch 46/100\n",
      "150/150 [==============================] - 0s 17us/step - loss: -8.9192\n",
      "Epoch 47/100\n",
      "150/150 [==============================] - 0s 16us/step - loss: -9.0294\n",
      "Epoch 48/100\n",
      "150/150 [==============================] - 0s 18us/step - loss: -9.1427\n",
      "Epoch 49/100\n",
      "150/150 [==============================] - 0s 19us/step - loss: -9.2595\n",
      "Epoch 50/100\n",
      "150/150 [==============================] - 0s 21us/step - loss: -9.3797\n",
      "Epoch 51/100\n",
      "150/150 [==============================] - 0s 20us/step - loss: -9.5035\n",
      "Epoch 52/100\n",
      "150/150 [==============================] - 0s 18us/step - loss: -9.6316\n",
      "Epoch 53/100\n",
      "150/150 [==============================] - 0s 19us/step - loss: -9.7636\n",
      "Epoch 54/100\n",
      "150/150 [==============================] - 0s 18us/step - loss: -9.9004\n",
      "Epoch 55/100\n",
      "150/150 [==============================] - 0s 21us/step - loss: -10.0420\n",
      "Epoch 56/100\n",
      "150/150 [==============================] - 0s 19us/step - loss: -10.1880\n",
      "Epoch 57/100\n",
      "150/150 [==============================] - 0s 20us/step - loss: -10.3406\n",
      "Epoch 58/100\n",
      "150/150 [==============================] - 0s 19us/step - loss: -10.4983\n",
      "Epoch 59/100\n",
      "150/150 [==============================] - 0s 26us/step - loss: -10.6622\n",
      "Epoch 60/100\n",
      "150/150 [==============================] - 0s 21us/step - loss: -10.8332\n",
      "Epoch 61/100\n",
      "150/150 [==============================] - 0s 18us/step - loss: -11.0123\n",
      "Epoch 62/100\n",
      "150/150 [==============================] - 0s 19us/step - loss: -11.1982\n",
      "Epoch 63/100\n",
      "150/150 [==============================] - 0s 25us/step - loss: -11.3914\n",
      "Epoch 64/100\n",
      "150/150 [==============================] - 0s 19us/step - loss: -11.5921\n",
      "Epoch 65/100\n",
      "150/150 [==============================] - 0s 20us/step - loss: -11.8047\n",
      "Epoch 66/100\n",
      "150/150 [==============================] - 0s 28us/step - loss: -12.0254\n",
      "Epoch 67/100\n",
      "150/150 [==============================] - 0s 25us/step - loss: -12.2594\n",
      "Epoch 68/100\n",
      "150/150 [==============================] - 0s 20us/step - loss: -12.5034\n",
      "Epoch 69/100\n",
      "150/150 [==============================] - 0s 20us/step - loss: -12.7594\n",
      "Epoch 70/100\n",
      "150/150 [==============================] - 0s 26us/step - loss: -13.0228\n",
      "Epoch 71/100\n",
      "150/150 [==============================] - 0s 25us/step - loss: -13.2838\n",
      "Epoch 72/100\n",
      "150/150 [==============================] - 0s 43us/step - loss: -13.5570\n",
      "Epoch 73/100\n",
      "150/150 [==============================] - 0s 20us/step - loss: -13.8405\n",
      "Epoch 74/100\n",
      "150/150 [==============================] - 0s 18us/step - loss: -14.1422\n",
      "Epoch 75/100\n",
      "150/150 [==============================] - 0s 18us/step - loss: -14.4157\n",
      "Epoch 76/100\n",
      "150/150 [==============================] - 0s 29us/step - loss: -14.7133\n",
      "Epoch 77/100\n",
      "150/150 [==============================] - 0s 19us/step - loss: -14.9946\n",
      "Epoch 78/100\n",
      "150/150 [==============================] - 0s 20us/step - loss: -15.2965\n",
      "Epoch 79/100\n",
      "150/150 [==============================] - 0s 19us/step - loss: -15.5757\n",
      "Epoch 80/100\n",
      "150/150 [==============================] - 0s 18us/step - loss: -15.8689\n",
      "Epoch 81/100\n",
      "150/150 [==============================] - 0s 24us/step - loss: -16.1514\n",
      "Epoch 82/100\n",
      "150/150 [==============================] - 0s 17us/step - loss: -16.4447\n",
      "Epoch 83/100\n",
      "150/150 [==============================] - 0s 15us/step - loss: -16.7267\n",
      "Epoch 84/100\n",
      "150/150 [==============================] - 0s 21us/step - loss: -17.0195\n",
      "Epoch 85/100\n",
      "150/150 [==============================] - 0s 17us/step - loss: -17.2900\n",
      "Epoch 86/100\n",
      "150/150 [==============================] - 0s 16us/step - loss: -17.5729\n",
      "Epoch 87/100\n",
      "150/150 [==============================] - 0s 16us/step - loss: -17.8790\n",
      "Epoch 88/100\n",
      "150/150 [==============================] - 0s 14us/step - loss: -18.1678\n",
      "Epoch 89/100\n",
      "150/150 [==============================] - 0s 18us/step - loss: -18.4784\n",
      "Epoch 90/100\n",
      "150/150 [==============================] - 0s 15us/step - loss: -18.7791\n",
      "Epoch 91/100\n",
      "150/150 [==============================] - 0s 15us/step - loss: -19.0901\n",
      "Epoch 92/100\n",
      "150/150 [==============================] - 0s 18us/step - loss: -19.4112\n",
      "Epoch 93/100\n",
      "150/150 [==============================] - 0s 20us/step - loss: -19.7388\n",
      "Epoch 94/100\n",
      "150/150 [==============================] - 0s 18us/step - loss: -20.0751\n",
      "Epoch 95/100\n",
      "150/150 [==============================] - 0s 18us/step - loss: -20.4241\n",
      "Epoch 96/100\n",
      "150/150 [==============================] - 0s 16us/step - loss: -20.7651\n",
      "Epoch 97/100\n"
     ]
    },
    {
     "name": "stdout",
     "output_type": "stream",
     "text": [
      "150/150 [==============================] - 0s 18us/step - loss: -21.1493\n",
      "Epoch 98/100\n",
      "150/150 [==============================] - 0s 17us/step - loss: -21.5244\n",
      "Epoch 99/100\n",
      "150/150 [==============================] - 0s 17us/step - loss: -21.9154\n",
      "Epoch 100/100\n",
      "150/150 [==============================] - 0s 17us/step - loss: -22.3178\n"
     ]
    },
    {
     "data": {
      "text/plain": [
       "<keras.callbacks.History at 0x1a38ccd5f8>"
      ]
     },
     "execution_count": 25,
     "metadata": {},
     "output_type": "execute_result"
    }
   ],
   "source": [
    "# 訓練\n",
    "ae_iris.fit(iris_data, iris_data,\n",
    "                epochs=100,\n",
    "                batch_size=256,\n",
    "                shuffle=True)"
   ]
  },
  {
   "cell_type": "code",
   "execution_count": 26,
   "metadata": {},
   "outputs": [
    {
     "data": {
      "text/plain": [
       "array([[ 7.55257463e+00,  5.96641636e+00,  1.52081251e-04],\n",
       "       [ 7.23911858e+00,  5.69830418e+00, -0.00000000e+00],\n",
       "       [ 7.01989603e+00,  5.51983500e+00, -0.00000000e+00],\n",
       "       [ 7.24498892e+00,  5.46857452e+00, -0.00000000e+00],\n",
       "       [ 7.52462101e+00,  5.89154053e+00, -0.00000000e+00],\n",
       "       [ 8.61775684e+00,  6.51624680e+00, -0.00000000e+00],\n",
       "       [ 7.30896425e+00,  5.55093050e+00, -0.00000000e+00],\n",
       "       [ 7.61435175e+00,  5.88643932e+00, -0.00000000e+00],\n",
       "       [ 6.87859631e+00,  5.22247171e+00, -0.00000000e+00],\n",
       "       [ 7.32231474e+00,  5.68358278e+00, -0.00000000e+00],\n",
       "       [ 7.98371410e+00,  6.30430412e+00, -0.00000000e+00],\n",
       "       [ 7.64817572e+00,  5.73158646e+00, -0.00000000e+00],\n",
       "       [ 7.05745983e+00,  5.54617262e+00, -0.00000000e+00],\n",
       "       [ 6.24378204e+00,  5.00110006e+00,  3.60585451e-02],\n",
       "       [ 7.86312914e+00,  6.63602018e+00,  3.31504673e-01],\n",
       "       [ 8.66932678e+00,  6.81871128e+00,  1.64351881e-01],\n",
       "       [ 7.96449375e+00,  6.40138149e+00,  2.25871772e-01],\n",
       "       [ 7.66948748e+00,  6.02676249e+00,  2.62287855e-02],\n",
       "       [ 8.65828896e+00,  6.71434546e+00, -0.00000000e+00],\n",
       "       [ 7.94318104e+00,  6.10620451e+00, -0.00000000e+00],\n",
       "       [ 8.19996738e+00,  6.31101084e+00, -0.00000000e+00],\n",
       "       [ 8.02330208e+00,  6.14964247e+00, -0.00000000e+00],\n",
       "       [ 6.61237383e+00,  5.40953636e+00,  2.57083029e-01],\n",
       "       [ 8.31967545e+00,  6.19978666e+00, -0.00000000e+00],\n",
       "       [ 8.13812351e+00,  5.81773520e+00, -0.00000000e+00],\n",
       "       [ 7.63049698e+00,  5.84752131e+00, -0.00000000e+00],\n",
       "       [ 8.01149368e+00,  6.03584862e+00, -0.00000000e+00],\n",
       "       [ 7.78063631e+00,  6.08691740e+00, -0.00000000e+00],\n",
       "       [ 7.58052778e+00,  6.04129267e+00,  5.75381517e-03],\n",
       "       [ 7.50984383e+00,  5.60598421e+00, -0.00000000e+00],\n",
       "       [ 7.53779745e+00,  5.68086052e+00, -0.00000000e+00],\n",
       "       [ 8.10716152e+00,  6.37427092e+00,  8.56649876e-03],\n",
       "       [ 7.88447952e+00,  6.12802267e+00, -0.00000000e+00],\n",
       "       [ 8.06910801e+00,  6.45191622e+00,  1.40157551e-01],\n",
       "       [ 7.43922758e+00,  5.74392891e+00, -0.00000000e+00],\n",
       "       [ 7.05081892e+00,  5.76647329e+00,  1.15638480e-01],\n",
       "       [ 7.64824295e+00,  6.30483913e+00,  1.47247642e-01],\n",
       "       [ 7.34296227e+00,  5.73940992e+00, -0.00000000e+00],\n",
       "       [ 6.75207329e+00,  5.21066380e+00, -0.00000000e+00],\n",
       "       [ 7.67909765e+00,  5.97822380e+00, -0.00000000e+00],\n",
       "       [ 7.44142532e+00,  5.90626144e+00,  9.18619931e-02],\n",
       "       [ 6.67618275e+00,  5.24443388e+00, -0.00000000e+00],\n",
       "       [ 6.82565832e+00,  5.24448109e+00, -0.00000000e+00],\n",
       "       [ 8.28211212e+00,  6.17344999e+00, -0.00000000e+00],\n",
       "       [ 8.71335697e+00,  6.28141642e+00, -0.00000000e+00],\n",
       "       [ 7.29128551e+00,  5.66686535e+00, -0.00000000e+00],\n",
       "       [ 7.98958397e+00,  6.07457495e+00, -0.00000000e+00],\n",
       "       [ 7.11846590e+00,  5.45676708e+00, -0.00000000e+00],\n",
       "       [ 7.91896820e+00,  6.21251965e+00, -0.00000000e+00],\n",
       "       [ 7.41424274e+00,  5.84081459e+00, -0.00000000e+00],\n",
       "       [ 1.54647465e+01,  9.33139515e+00, -0.00000000e+00],\n",
       "       [ 1.48665524e+01,  8.78360081e+00, -0.00000000e+00],\n",
       "       [ 1.58067532e+01,  9.34048080e+00, -0.00000000e+00],\n",
       "       [ 1.29022989e+01,  7.54108572e+00, -0.00000000e+00],\n",
       "       [ 1.49474430e+01,  8.83646679e+00, -0.00000000e+00],\n",
       "       [ 1.40323324e+01,  7.95277929e+00, -0.00000000e+00],\n",
       "       [ 1.52821426e+01,  8.82650375e+00, -0.00000000e+00],\n",
       "       [ 1.10566664e+01,  6.62523270e+00, -0.00000000e+00],\n",
       "       [ 1.48151560e+01,  8.82446766e+00, -0.00000000e+00],\n",
       "       [ 1.28088284e+01,  7.36499596e+00, -0.00000000e+00],\n",
       "       [ 1.13008728e+01,  6.70681524e+00, -0.00000000e+00],\n",
       "       [ 1.39792881e+01,  8.20471096e+00, -0.00000000e+00],\n",
       "       [ 1.28384981e+01,  7.80206156e+00, -0.00000000e+00],\n",
       "       [ 1.47716541e+01,  8.45460606e+00, -0.00000000e+00],\n",
       "       [ 1.25345373e+01,  7.61945677e+00, -0.00000000e+00],\n",
       "       [ 1.47437687e+01,  8.95298290e+00, -0.00000000e+00],\n",
       "       [ 1.42749977e+01,  8.01550484e+00, -0.00000000e+00],\n",
       "       [ 1.30562849e+01,  7.73175144e+00, -0.00000000e+00],\n",
       "       [ 1.43691320e+01,  8.43094444e+00, -0.00000000e+00],\n",
       "       [ 1.26434889e+01,  7.51727819e+00, -0.00000000e+00],\n",
       "       [ 1.53835077e+01,  8.59186554e+00, -0.00000000e+00],\n",
       "       [ 1.34747381e+01,  8.17633724e+00, -0.00000000e+00],\n",
       "       [ 1.51975203e+01,  8.68832111e+00, -0.00000000e+00],\n",
       "       [ 1.45010357e+01,  8.31700516e+00, -0.00000000e+00],\n",
       "       [ 1.41957169e+01,  8.55474949e+00, -0.00000000e+00],\n",
       "       [ 1.46422300e+01,  8.84428978e+00, -0.00000000e+00],\n",
       "       [ 1.53514004e+01,  9.10890770e+00, -0.00000000e+00],\n",
       "       [ 1.60376091e+01,  9.28941154e+00, -0.00000000e+00],\n",
       "       [ 1.44971895e+01,  8.36573505e+00, -0.00000000e+00],\n",
       "       [ 1.19748507e+01,  7.45075989e+00, -0.00000000e+00],\n",
       "       [ 1.23786345e+01,  7.37986898e+00, -0.00000000e+00],\n",
       "       [ 1.20984049e+01,  7.29080629e+00, -0.00000000e+00],\n",
       "       [ 1.29634790e+01,  7.79501152e+00, -0.00000000e+00],\n",
       "       [ 1.55204115e+01,  8.56456280e+00, -0.00000000e+00],\n",
       "       [ 1.41455059e+01,  7.83193541e+00, -0.00000000e+00],\n",
       "       [ 1.47980661e+01,  8.51062489e+00, -0.00000000e+00],\n",
       "       [ 1.53506289e+01,  9.09947872e+00, -0.00000000e+00],\n",
       "       [ 1.40735312e+01,  8.39022923e+00, -0.00000000e+00],\n",
       "       [ 1.33879089e+01,  7.77994680e+00, -0.00000000e+00],\n",
       "       [ 1.29758835e+01,  7.57490301e+00, -0.00000000e+00],\n",
       "       [ 1.35490265e+01,  7.64633083e+00, -0.00000000e+00],\n",
       "       [ 1.46451311e+01,  8.44279861e+00, -0.00000000e+00],\n",
       "       [ 1.30900021e+01,  7.80681944e+00, -0.00000000e+00],\n",
       "       [ 1.10846186e+01,  6.70010853e+00, -0.00000000e+00],\n",
       "       [ 1.34408464e+01,  7.75793695e+00, -0.00000000e+00],\n",
       "       [ 1.34990578e+01,  7.84010124e+00, -0.00000000e+00],\n",
       "       [ 1.35791779e+01,  7.88353920e+00, -0.00000000e+00],\n",
       "       [ 1.40662241e+01,  8.37117958e+00, -0.00000000e+00],\n",
       "       [ 1.08499155e+01,  6.79990816e+00, -0.00000000e+00],\n",
       "       [ 1.33790693e+01,  7.83791399e+00, -0.00000000e+00],\n",
       "       [ 1.84574642e+01,  9.74293232e+00, -0.00000000e+00],\n",
       "       [ 1.57416582e+01,  8.56203175e+00, -0.00000000e+00],\n",
       "       [ 1.82340870e+01,  1.01563826e+01, -0.00000000e+00],\n",
       "       [ 1.68386421e+01,  9.13800907e+00, -0.00000000e+00],\n",
       "       [ 1.77992096e+01,  9.63730431e+00, -0.00000000e+00],\n",
       "       [ 1.97010288e+01,  1.08163204e+01, -0.00000000e+00],\n",
       "       [ 1.38716373e+01,  7.40916157e+00, -0.00000000e+00],\n",
       "       [ 1.86293125e+01,  1.02568703e+01, -0.00000000e+00],\n",
       "       [ 1.72770863e+01,  9.49494553e+00, -0.00000000e+00],\n",
       "       [ 1.93138733e+01,  1.06484365e+01, -0.00000000e+00],\n",
       "       [ 1.64957581e+01,  9.34941387e+00, -0.00000000e+00],\n",
       "       [ 1.64567680e+01,  9.17017269e+00, -0.00000000e+00],\n",
       "       [ 1.73865871e+01,  9.76616287e+00, -0.00000000e+00],\n",
       "       [ 1.55569239e+01,  8.46806049e+00, -0.00000000e+00],\n",
       "       [ 1.63630161e+01,  8.88067245e+00, -0.00000000e+00],\n",
       "       [ 1.71083813e+01,  9.49610138e+00, -0.00000000e+00],\n",
       "       [ 1.68416100e+01,  9.30976963e+00, -0.00000000e+00],\n",
       "       [ 2.03403454e+01,  1.11324358e+01, -0.00000000e+00],\n",
       "       [ 2.03423767e+01,  1.10473118e+01, -0.00000000e+00],\n",
       "       [ 1.50562201e+01,  8.39095688e+00, -0.00000000e+00],\n",
       "       [ 1.80853748e+01,  1.00698910e+01, -0.00000000e+00],\n",
       "       [ 1.54392405e+01,  8.39828491e+00, -0.00000000e+00],\n",
       "       [ 1.97385921e+01,  1.08426571e+01, -0.00000000e+00],\n",
       "       [ 1.56218443e+01,  8.90317726e+00, -0.00000000e+00],\n",
       "       [ 1.77588501e+01,  9.78253651e+00, -0.00000000e+00],\n",
       "       [ 1.81849957e+01,  1.01296625e+01, -0.00000000e+00],\n",
       "       [ 1.54305754e+01,  8.79958439e+00, -0.00000000e+00],\n",
       "       [ 1.56027308e+01,  8.77033329e+00, -0.00000000e+00],\n",
       "       [ 1.72173328e+01,  9.39392376e+00, -0.00000000e+00],\n",
       "       [ 1.75509548e+01,  9.91771889e+00, -0.00000000e+00],\n",
       "       [ 1.84475479e+01,  1.03346596e+01, -0.00000000e+00],\n",
       "       [ 1.97460651e+01,  1.11091652e+01, -0.00000000e+00],\n",
       "       [ 1.73342457e+01,  9.45427036e+00, -0.00000000e+00],\n",
       "       [ 1.56345301e+01,  8.79647923e+00, -0.00000000e+00],\n",
       "       [ 1.61311188e+01,  8.66232777e+00, -0.00000000e+00],\n",
       "       [ 1.91830215e+01,  1.08852158e+01, -0.00000000e+00],\n",
       "       [ 1.77240829e+01,  9.58463001e+00, -0.00000000e+00],\n",
       "       [ 1.68136559e+01,  9.23489380e+00, -0.00000000e+00],\n",
       "       [ 1.53746691e+01,  8.64983273e+00, -0.00000000e+00],\n",
       "       [ 1.73248100e+01,  9.84614086e+00, -0.00000000e+00],\n",
       "       [ 1.78726883e+01,  9.90104198e+00, -0.00000000e+00],\n",
       "       [ 1.70686874e+01,  9.88068390e+00, -0.00000000e+00],\n",
       "       [ 1.57416582e+01,  8.56203175e+00, -0.00000000e+00],\n",
       "       [ 1.83472614e+01,  1.00355387e+01, -0.00000000e+00],\n",
       "       [ 1.82265015e+01,  1.00239220e+01, -0.00000000e+00],\n",
       "       [ 1.70657196e+01,  9.70892239e+00, -0.00000000e+00],\n",
       "       [ 1.58284874e+01,  8.95842266e+00, -0.00000000e+00],\n",
       "       [ 1.65854874e+01,  9.34431362e+00, -0.00000000e+00],\n",
       "       [ 1.72157917e+01,  9.37506580e+00, -0.00000000e+00],\n",
       "       [ 1.57998695e+01,  8.64419651e+00, -0.00000000e+00]], dtype=float32)"
      ]
     },
     "execution_count": 26,
     "metadata": {},
     "output_type": "execute_result"
    }
   ],
   "source": [
    "encoder_iris.predict(iris.data)"
   ]
  },
  {
   "cell_type": "code",
   "execution_count": 27,
   "metadata": {},
   "outputs": [
    {
     "name": "stderr",
     "output_type": "stream",
     "text": [
      "                                                 \r"
     ]
    },
    {
     "name": "stdout",
     "output_type": "stream",
     "text": [
      "[[1.         0.99999851 0.99999744 ... 0.98792976 0.98559403 0.98592365]\n",
      " [0.99999851 1.         0.99999982 ... 0.98819858 0.98588765 0.9862138 ]\n",
      " [0.99999744 0.99999982 1.         ... 0.98827803 0.98597443 0.98629975]\n",
      " ...\n",
      " [0.98792976 0.98819858 0.98827803 ... 0.99999994 0.99989605 0.99992239]\n",
      " [0.98559403 0.98588765 0.98597443 ... 0.99989605 1.         0.99999821]\n",
      " [0.98592365 0.9862138  0.98629975 ... 0.99992239 0.99999821 1.00000012]]\n"
     ]
    }
   ],
   "source": [
    "model_vis.model_vis(encoder_iris, iris.data, iris_label_name, item_vis=model_vis.item_vis_for_mat, item_vis_label=iris.feature_names, output_path='./html/iris_mat.html', output_title='iris_mat')"
   ]
  },
  {
   "cell_type": "code",
   "execution_count": 28,
   "metadata": {},
   "outputs": [
    {
     "name": "stderr",
     "output_type": "stream",
     "text": [
      "                                                 \r"
     ]
    }
   ],
   "source": [
    "model_vis.model_vis(encoder_iris, iris.data, iris_label_name, item_vis=model_vis.item_vis_for_multidim, item_vis_label=iris.feature_names, output_path='./html/iris_muldim.html', output_title='iris_muldim')"
   ]
  },
  {
   "cell_type": "markdown",
   "metadata": {},
   "source": [
    "# boston house price, AE\n"
   ]
  },
  {
   "cell_type": "code",
   "execution_count": 29,
   "metadata": {},
   "outputs": [
    {
     "data": {
      "text/plain": [
       "array(['mid', 'mid', 'high', 'high', 'high', 'high', 'mid', 'mid', 'low',\n",
       "       'mid', 'low', 'mid', 'mid', 'mid', 'mid', 'mid', 'mid', 'low',\n",
       "       'mid', 'mid', 'low', 'mid', 'low', 'low', 'low', 'low', 'low',\n",
       "       'low', 'mid', 'mid', 'low', 'low', 'low', 'low', 'low', 'mid',\n",
       "       'mid', 'mid', 'mid', 'high', 'high', 'mid', 'mid', 'mid', 'mid',\n",
       "       'mid', 'mid', 'low', 'low', 'mid', 'mid', 'mid', 'mid', 'mid',\n",
       "       'mid', 'high', 'mid', 'high', 'mid', 'mid', 'mid', 'low', 'mid',\n",
       "       'mid', 'high', 'mid', 'mid', 'mid', 'low', 'mid', 'mid', 'mid',\n",
       "       'mid', 'mid', 'mid', 'mid', 'mid', 'mid', 'mid', 'mid', 'high',\n",
       "       'mid', 'mid', 'mid', 'mid', 'mid', 'mid', 'mid', 'mid', 'high',\n",
       "       'mid', 'mid', 'mid', 'mid', 'mid', 'high', 'mid', 'high', 'high',\n",
       "       'high', 'mid', 'mid', 'mid', 'mid', 'mid', 'mid', 'mid', 'mid',\n",
       "       'mid', 'mid', 'mid', 'mid', 'mid', 'mid', 'mid', 'mid', 'mid',\n",
       "       'mid', 'mid', 'mid', 'mid', 'mid', 'mid', 'low', 'mid', 'mid',\n",
       "       'low', 'low', 'mid', 'low', 'mid', 'mid', 'mid', 'mid', 'low',\n",
       "       'mid', 'low', 'low', 'low', 'mid', 'low', 'low', 'low', 'low',\n",
       "       'low', 'low', 'low', 'low', 'mid', 'low', 'mid', 'mid', 'low',\n",
       "       'mid', 'low', 'low', 'low', 'high', 'mid', 'mid', 'mid', 'high',\n",
       "       'high', 'high', 'mid', 'mid', 'high', 'mid', 'mid', 'mid', 'low',\n",
       "       'mid', 'mid', 'mid', 'mid', 'high', 'mid', 'mid', 'high', 'high',\n",
       "       'high', 'high', 'high', 'high', 'mid', 'high', 'high', 'high',\n",
       "       'high', 'high', 'high', 'high', 'high', 'high', 'high', 'high',\n",
       "       'high', 'high', 'high', 'high', 'high', 'mid', 'high', 'high',\n",
       "       'high', 'mid', 'mid', 'mid', 'mid', 'mid', 'mid', 'mid', 'mid',\n",
       "       'high', 'mid', 'mid', 'mid', 'high', 'mid', 'mid', 'mid', 'mid',\n",
       "       'mid', 'high', 'high', 'high', 'high', 'high', 'high', 'high',\n",
       "       'mid', 'high', 'high', 'high', 'high', 'mid', 'mid', 'high', 'mid',\n",
       "       'mid', 'mid', 'mid', 'mid', 'mid', 'mid', 'mid', 'mid', 'mid',\n",
       "       'mid', 'mid', 'mid', 'mid', 'high', 'high', 'mid', 'mid', 'high',\n",
       "       'high', 'high', 'high', 'high', 'high', 'high', 'high', 'high',\n",
       "       'mid', 'high', 'high', 'high', 'mid', 'mid', 'mid', 'mid', 'high',\n",
       "       'high', 'high', 'high', 'high', 'high', 'high', 'high', 'high',\n",
       "       'high', 'high', 'high', 'mid', 'mid', 'mid', 'mid', 'mid', 'high',\n",
       "       'high', 'high', 'mid', 'mid', 'high', 'mid', 'mid', 'mid', 'high',\n",
       "       'mid', 'mid', 'mid', 'high', 'high', 'high', 'high', 'high', 'mid',\n",
       "       'mid', 'low', 'mid', 'mid', 'mid', 'mid', 'low', 'mid', 'mid',\n",
       "       'mid', 'mid', 'mid', 'mid', 'mid', 'mid', 'mid', 'mid', 'mid',\n",
       "       'mid', 'mid', 'mid', 'mid', 'low', 'mid', 'mid', 'mid', 'mid',\n",
       "       'mid', 'mid', 'mid', 'mid', 'mid', 'high', 'low', 'mid', 'high',\n",
       "       'low', 'low', 'mid', 'mid', 'mid', 'mid', 'mid', 'mid', 'high',\n",
       "       'mid', 'mid', 'mid', 'mid', 'mid', 'mid', 'mid', 'mid', 'mid',\n",
       "       'low', 'mid', 'mid', 'mid', 'mid', 'high', 'high', 'high', 'high',\n",
       "       'high', 'low', 'low', 'low', 'low', 'low', 'low', 'low', 'low',\n",
       "       'low', 'low', 'low', 'low', 'low', 'low', 'low', 'low', 'low',\n",
       "       'low', 'mid', 'low', 'low', 'low', 'low', 'low', 'low', 'low',\n",
       "       'low', 'low', 'low', 'low', 'low', 'low', 'low', 'low', 'high',\n",
       "       'low', 'mid', 'low', 'low', 'mid', 'low', 'low', 'low', 'low',\n",
       "       'low', 'low', 'low', 'low', 'low', 'mid', 'low', 'low', 'low',\n",
       "       'low', 'low', 'low', 'low', 'low', 'low', 'low', 'low', 'low',\n",
       "       'low', 'low', 'low', 'low', 'low', 'low', 'low', 'mid', 'low',\n",
       "       'low', 'low', 'low', 'low', 'low', 'low', 'low', 'low', 'low',\n",
       "       'mid', 'low', 'low', 'low', 'low', 'low', 'mid', 'low', 'mid',\n",
       "       'mid', 'mid', 'mid', 'mid', 'mid', 'mid', 'mid', 'mid', 'mid',\n",
       "       'mid', 'mid', 'high', 'low', 'low', 'low', 'low', 'low', 'mid',\n",
       "       'mid', 'mid', 'mid', 'mid', 'mid', 'mid', 'mid', 'mid', 'low',\n",
       "       'low', 'low', 'low', 'mid', 'mid', 'mid', 'mid', 'mid', 'mid',\n",
       "       'mid', 'low', 'low', 'mid', 'mid', 'mid', 'mid', 'low'],\n",
       "      dtype='<U32')"
      ]
     },
     "execution_count": 29,
     "metadata": {},
     "output_type": "execute_result"
    }
   ],
   "source": [
    "from sklearn.datasets import load_boston\n",
    "boston = load_boston()\n",
    "boston_data = boston.data\n",
    "boston_label = boston.target\n",
    "boston_label_thres = np.empty(boston_label.shape).astype('str')\n",
    "boston_label_thres[boston_label>boston_label.mean()+5] = 'high'\n",
    "boston_label_thres[(boston_label<=boston_label.mean()+5) * (boston_label>=boston_label.mean()-5)] = 'mid'\n",
    "boston_label_thres[boston_label<boston_label.mean()-5] = 'low'\n",
    "boston_label_thres"
   ]
  },
  {
   "cell_type": "code",
   "execution_count": 30,
   "metadata": {},
   "outputs": [
    {
     "name": "stderr",
     "output_type": "stream",
     "text": [
      "/Users/ht/.pyenv/versions/miniconda3-latest/envs/cert/lib/python3.7/site-packages/ipykernel_launcher.py:7: UserWarning: Update your `Model` call to the Keras 2 API: `Model(inputs=Tensor(\"in..., outputs=Tensor(\"de...)`\n",
      "  import sys\n"
     ]
    },
    {
     "name": "stdout",
     "output_type": "stream",
     "text": [
      "_________________________________________________________________\n",
      "Layer (type)                 Output Shape              Param #   \n",
      "=================================================================\n",
      "input_5 (InputLayer)         (None, 13)                0         \n",
      "_________________________________________________________________\n",
      "dense_7 (Dense)              (None, 4)                 56        \n",
      "_________________________________________________________________\n",
      "dense_8 (Dense)              (None, 13)                65        \n",
      "=================================================================\n",
      "Total params: 121\n",
      "Trainable params: 121\n",
      "Non-trainable params: 0\n",
      "_________________________________________________________________\n"
     ]
    }
   ],
   "source": [
    "# model 作成\n",
    "encoding_dim = 4\n",
    "input_boston = Input(shape=(13,))\n",
    "encoded_boston = Dense(encoding_dim, activation='relu')(input_boston)\n",
    "decoded_boston = Dense(13, activation='sigmoid')(encoded_boston)\n",
    "\n",
    "ae_boston = Model(input=input_boston, output=decoded_boston)\n",
    "encoder_boston = Model(input_boston, encoded_boston)\n",
    "tf.keras.backend.get_session().run(tf.global_variables_initializer())\n",
    "ae_boston.compile(optimizer='adadelta', loss='binary_crossentropy')\n",
    "ae_boston.summary()"
   ]
  },
  {
   "cell_type": "code",
   "execution_count": 31,
   "metadata": {},
   "outputs": [
    {
     "name": "stdout",
     "output_type": "stream",
     "text": [
      "Epoch 1/100\n",
      "506/506 [==============================] - 1s 2ms/step - loss: -276.0594\n",
      "Epoch 2/100\n",
      "506/506 [==============================] - 0s 15us/step - loss: -297.5289\n",
      "Epoch 3/100\n",
      "506/506 [==============================] - 0s 16us/step - loss: -317.2444\n",
      "Epoch 4/100\n",
      "506/506 [==============================] - 0s 14us/step - loss: -334.0312\n",
      "Epoch 5/100\n",
      "506/506 [==============================] - 0s 17us/step - loss: -345.8709\n",
      "Epoch 6/100\n",
      "506/506 [==============================] - 0s 17us/step - loss: -351.7369\n",
      "Epoch 7/100\n",
      "506/506 [==============================] - 0s 16us/step - loss: -354.9136\n",
      "Epoch 8/100\n",
      "506/506 [==============================] - 0s 14us/step - loss: -357.6370\n",
      "Epoch 9/100\n",
      "506/506 [==============================] - 0s 16us/step - loss: -360.3257\n",
      "Epoch 10/100\n",
      "506/506 [==============================] - 0s 17us/step - loss: -363.4459\n",
      "Epoch 11/100\n",
      "506/506 [==============================] - 0s 15us/step - loss: -367.3568\n",
      "Epoch 12/100\n",
      "506/506 [==============================] - 0s 15us/step - loss: -371.7859\n",
      "Epoch 13/100\n",
      "506/506 [==============================] - 0s 15us/step - loss: -384.2893\n",
      "Epoch 14/100\n",
      "506/506 [==============================] - 0s 15us/step - loss: -448.3308\n",
      "Epoch 15/100\n",
      "506/506 [==============================] - 0s 16us/step - loss: -486.3090\n",
      "Epoch 16/100\n",
      "506/506 [==============================] - 0s 16us/step - loss: -529.0069\n",
      "Epoch 17/100\n",
      "506/506 [==============================] - 0s 13us/step - loss: -530.1079\n",
      "Epoch 18/100\n",
      "506/506 [==============================] - 0s 15us/step - loss: -544.4347\n",
      "Epoch 19/100\n",
      "506/506 [==============================] - 0s 15us/step - loss: -575.6138\n",
      "Epoch 20/100\n",
      "506/506 [==============================] - 0s 18us/step - loss: -611.3739\n",
      "Epoch 21/100\n",
      "506/506 [==============================] - 0s 13us/step - loss: -640.4668\n",
      "Epoch 22/100\n",
      "506/506 [==============================] - 0s 16us/step - loss: -655.1231\n",
      "Epoch 23/100\n",
      "506/506 [==============================] - 0s 14us/step - loss: -688.1887\n",
      "Epoch 24/100\n",
      "506/506 [==============================] - 0s 15us/step - loss: -660.1745\n",
      "Epoch 25/100\n",
      "506/506 [==============================] - 0s 16us/step - loss: -711.8861\n",
      "Epoch 26/100\n",
      "506/506 [==============================] - 0s 17us/step - loss: -727.1225\n",
      "Epoch 27/100\n",
      "506/506 [==============================] - 0s 14us/step - loss: -733.6731\n",
      "Epoch 28/100\n",
      "506/506 [==============================] - 0s 14us/step - loss: -722.8170\n",
      "Epoch 29/100\n",
      "506/506 [==============================] - 0s 16us/step - loss: -771.2688\n",
      "Epoch 30/100\n",
      "506/506 [==============================] - 0s 16us/step - loss: -783.5229\n",
      "Epoch 31/100\n",
      "506/506 [==============================] - 0s 14us/step - loss: -812.0587\n",
      "Epoch 32/100\n",
      "506/506 [==============================] - 0s 14us/step - loss: -822.0072\n",
      "Epoch 33/100\n",
      "506/506 [==============================] - 0s 15us/step - loss: -839.0825\n",
      "Epoch 34/100\n",
      "506/506 [==============================] - 0s 17us/step - loss: -846.8733\n",
      "Epoch 35/100\n",
      "506/506 [==============================] - 0s 15us/step - loss: -861.7363\n",
      "Epoch 36/100\n",
      "506/506 [==============================] - 0s 15us/step - loss: -874.7693\n",
      "Epoch 37/100\n",
      "506/506 [==============================] - 0s 14us/step - loss: -885.7306\n",
      "Epoch 38/100\n",
      "506/506 [==============================] - 0s 15us/step - loss: -901.5247\n",
      "Epoch 39/100\n",
      "506/506 [==============================] - 0s 14us/step - loss: -913.6704\n",
      "Epoch 40/100\n",
      "506/506 [==============================] - 0s 16us/step - loss: -928.3184\n",
      "Epoch 41/100\n",
      "506/506 [==============================] - 0s 14us/step - loss: -941.2179\n",
      "Epoch 42/100\n",
      "506/506 [==============================] - 0s 16us/step - loss: -953.7980\n",
      "Epoch 43/100\n",
      "506/506 [==============================] - 0s 16us/step - loss: -964.8096\n",
      "Epoch 44/100\n",
      "506/506 [==============================] - 0s 18us/step - loss: -975.9516\n",
      "Epoch 45/100\n",
      "506/506 [==============================] - 0s 17us/step - loss: -987.3770\n",
      "Epoch 46/100\n",
      "506/506 [==============================] - 0s 17us/step - loss: -998.9415\n",
      "Epoch 47/100\n",
      "506/506 [==============================] - 0s 17us/step - loss: -1010.5907\n",
      "Epoch 48/100\n",
      "506/506 [==============================] - 0s 18us/step - loss: -1021.9840\n",
      "Epoch 49/100\n",
      "506/506 [==============================] - 0s 20us/step - loss: -1032.5652\n",
      "Epoch 50/100\n",
      "506/506 [==============================] - 0s 15us/step - loss: -1041.9267\n",
      "Epoch 51/100\n",
      "506/506 [==============================] - 0s 18us/step - loss: -1049.4313\n",
      "Epoch 52/100\n",
      "506/506 [==============================] - 0s 20us/step - loss: -1055.6172\n",
      "Epoch 53/100\n",
      "506/506 [==============================] - 0s 16us/step - loss: -1060.5739\n",
      "Epoch 54/100\n",
      "506/506 [==============================] - 0s 16us/step - loss: -1064.6274\n",
      "Epoch 55/100\n",
      "506/506 [==============================] - 0s 18us/step - loss: -1068.0932\n",
      "Epoch 56/100\n",
      "506/506 [==============================] - 0s 17us/step - loss: -1071.0893\n",
      "Epoch 57/100\n",
      "506/506 [==============================] - 0s 17us/step - loss: -1073.8042\n",
      "Epoch 58/100\n",
      "506/506 [==============================] - 0s 16us/step - loss: -1076.2044\n",
      "Epoch 59/100\n",
      "506/506 [==============================] - 0s 15us/step - loss: -1078.2158\n",
      "Epoch 60/100\n",
      "506/506 [==============================] - 0s 23us/step - loss: -1080.1409\n",
      "Epoch 61/100\n",
      "506/506 [==============================] - 0s 21us/step - loss: -1081.8284\n",
      "Epoch 62/100\n",
      "506/506 [==============================] - 0s 17us/step - loss: -1083.3269\n",
      "Epoch 63/100\n",
      "506/506 [==============================] - 0s 19us/step - loss: -1084.7412\n",
      "Epoch 64/100\n",
      "506/506 [==============================] - 0s 23us/step - loss: -1086.0289\n",
      "Epoch 65/100\n",
      "506/506 [==============================] - 0s 16us/step - loss: -1087.0733\n",
      "Epoch 66/100\n",
      "506/506 [==============================] - 0s 16us/step - loss: -1087.9509\n",
      "Epoch 67/100\n",
      "506/506 [==============================] - 0s 15us/step - loss: -1088.7994\n",
      "Epoch 68/100\n",
      "506/506 [==============================] - 0s 18us/step - loss: -1089.7055\n",
      "Epoch 69/100\n",
      "506/506 [==============================] - 0s 16us/step - loss: -1090.3914\n",
      "Epoch 70/100\n",
      "506/506 [==============================] - 0s 15us/step - loss: -1091.0793\n",
      "Epoch 71/100\n",
      "506/506 [==============================] - 0s 16us/step - loss: -1091.6845\n",
      "Epoch 72/100\n",
      "506/506 [==============================] - 0s 18us/step - loss: -1092.3686\n",
      "Epoch 73/100\n",
      "506/506 [==============================] - 0s 17us/step - loss: -1092.9103\n",
      "Epoch 74/100\n",
      "506/506 [==============================] - 0s 16us/step - loss: -1093.5206\n",
      "Epoch 75/100\n",
      "506/506 [==============================] - 0s 16us/step - loss: -1093.9988\n",
      "Epoch 76/100\n",
      "506/506 [==============================] - 0s 18us/step - loss: -1094.4982\n",
      "Epoch 77/100\n",
      "506/506 [==============================] - 0s 15us/step - loss: -1094.9094\n",
      "Epoch 78/100\n",
      "506/506 [==============================] - 0s 15us/step - loss: -1095.2151\n",
      "Epoch 79/100\n",
      "506/506 [==============================] - 0s 15us/step - loss: -1095.6336\n",
      "Epoch 80/100\n",
      "506/506 [==============================] - 0s 16us/step - loss: -1095.9252\n",
      "Epoch 81/100\n",
      "506/506 [==============================] - 0s 18us/step - loss: -1096.2022\n",
      "Epoch 82/100\n",
      "506/506 [==============================] - 0s 15us/step - loss: -1096.5877\n",
      "Epoch 83/100\n",
      "506/506 [==============================] - 0s 15us/step - loss: -1096.7990\n",
      "Epoch 84/100\n",
      "506/506 [==============================] - 0s 16us/step - loss: -1097.0458\n",
      "Epoch 85/100\n",
      "506/506 [==============================] - 0s 20us/step - loss: -1097.2708\n",
      "Epoch 86/100\n",
      "506/506 [==============================] - 0s 17us/step - loss: -1097.5698\n",
      "Epoch 87/100\n",
      "506/506 [==============================] - 0s 15us/step - loss: -1097.7016\n",
      "Epoch 88/100\n",
      "506/506 [==============================] - 0s 20us/step - loss: -1097.9624\n",
      "Epoch 89/100\n",
      "506/506 [==============================] - 0s 22us/step - loss: -1098.0684\n",
      "Epoch 90/100\n",
      "506/506 [==============================] - 0s 17us/step - loss: -1098.2891\n",
      "Epoch 91/100\n",
      "506/506 [==============================] - 0s 17us/step - loss: -1098.4811\n",
      "Epoch 92/100\n",
      "506/506 [==============================] - 0s 18us/step - loss: -1098.6375\n",
      "Epoch 93/100\n",
      "506/506 [==============================] - 0s 23us/step - loss: -1098.8695\n",
      "Epoch 94/100\n"
     ]
    },
    {
     "name": "stdout",
     "output_type": "stream",
     "text": [
      "506/506 [==============================] - 0s 16us/step - loss: -1098.9932\n",
      "Epoch 95/100\n",
      "506/506 [==============================] - 0s 16us/step - loss: -1099.1715\n",
      "Epoch 96/100\n",
      "506/506 [==============================] - 0s 17us/step - loss: -1099.2404\n",
      "Epoch 97/100\n",
      "506/506 [==============================] - 0s 26us/step - loss: -1099.3398\n",
      "Epoch 98/100\n",
      "506/506 [==============================] - 0s 25us/step - loss: -1099.5484\n",
      "Epoch 99/100\n",
      "506/506 [==============================] - 0s 33us/step - loss: -1099.6692\n",
      "Epoch 100/100\n",
      "506/506 [==============================] - 0s 21us/step - loss: -1099.8293\n"
     ]
    },
    {
     "data": {
      "text/plain": [
       "<keras.callbacks.History at 0x1a5d67b710>"
      ]
     },
     "execution_count": 31,
     "metadata": {},
     "output_type": "execute_result"
    }
   ],
   "source": [
    "# 訓練\n",
    "ae_boston.fit(boston_data, boston_data,\n",
    "                epochs=100,\n",
    "                batch_size=256,\n",
    "                shuffle=True)"
   ]
  },
  {
   "cell_type": "code",
   "execution_count": 32,
   "metadata": {},
   "outputs": [
    {
     "name": "stderr",
     "output_type": "stream",
     "text": [
      "                                                 \r"
     ]
    }
   ],
   "source": [
    "model_vis.model_vis(encoder_boston, boston_data, boston_label_thres, item_vis=model_vis.item_vis_for_multidim, item_vis_label=boston.feature_names, output_path='./html/boston_muldim.html', output_title='boston_muldim')"
   ]
  },
  {
   "cell_type": "code",
   "execution_count": null,
   "metadata": {},
   "outputs": [],
   "source": []
  },
  {
   "cell_type": "code",
   "execution_count": null,
   "metadata": {},
   "outputs": [],
   "source": []
  }
 ],
 "metadata": {
  "kernelspec": {
   "display_name": "Python 3",
   "language": "python",
   "name": "python3"
  },
  "language_info": {
   "codemirror_mode": {
    "name": "ipython",
    "version": 3
   },
   "file_extension": ".py",
   "mimetype": "text/x-python",
   "name": "python",
   "nbconvert_exporter": "python",
   "pygments_lexer": "ipython3",
   "version": "3.7.3"
  }
 },
 "nbformat": 4,
 "nbformat_minor": 2
}
